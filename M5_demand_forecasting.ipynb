{
 "cells": [
  {
   "cell_type": "markdown",
   "id": "85f53e97",
   "metadata": {},
   "source": [
    "## Table of contents\n",
    "1. [Project Definition & Business Objectives](#intro)\n",
    "   - [1.1 What Is the Business Problem?](#problem)\n",
    "   - [1.2 What is the Objective of the project?](#objective)\n",
    "2. [Technical Specifications & Solution Overview](#tech)\n",
    "   - [2.1 Tools](#tool)\n",
    "   - [2.2 Datasets](#data)\n",
    "   - [2.3 Solution Overview](#solution)\n",
    "3. [Exploratary Analysis](#eda)\n",
    "4. [Data Engineering](#prep)\n",
    "   - [4.1 Data Cleaning](#clean)\n",
    "   - [4.2 Data preparation](#dprep)\n",
    "   - [4.3 Feature Engineering](#feature)\n",
    "5. [Predictive Model](#model)\n",
    "   - [5.1 Parameter Tuning](#param)\n",
    "   - [5.2 Training Strategy](#strategy)\n",
    "6. [Appendix](#summary)"
   ]
  },
  {
   "cell_type": "markdown",
   "id": "ef8fdf7b",
   "metadata": {},
   "source": [
    "## I.\tProject Definition & Business Objectives <a name=\"intro\"></a>"
   ]
  },
  {
   "cell_type": "markdown",
   "id": "b40887f8",
   "metadata": {},
   "source": [
    "### 1.1 What Is the Business Problem? <a name=\"problem\"></a>"
   ]
  },
  {
   "cell_type": "markdown",
   "id": "b60a2b3a",
   "metadata": {},
   "source": [
    "Sales forecasting is essential for running a successful business, especially for businesses in the retail industry. Accurately predicting unit product sales at different points of time is crucial for retail stores in meeting consumer demand and managing product inventory; however,  it can be a complex problem with many factors such as products coming from various of categories, different store location may be running different promotion and special events, change of pricing, etc. This forecasting problem is further complicated by its hierarchical time series sales data.\n",
    "\n",
    "Walmart Inc. is an American multinational retail corporation headquartered in the United States. It operates a chain of retail stores and e-commerce stores in 24 countries. For this business problem, we are making point forecasts of unit sales of ten Walmart stores’ retail goods across three states California, Texas, and Wisconsin for two 28 day time periods.\n"
   ]
  },
  {
   "cell_type": "markdown",
   "id": "bb7d4005",
   "metadata": {},
   "source": [
    "### 1.2 What is the Objective of the project?<a name=\"objective\"></a>"
   ]
  },
  {
   "cell_type": "markdown",
   "id": "257c9f83",
   "metadata": {},
   "source": [
    "In this project, our goal is to predict the unit sales of 3049 items from seven departments and three product categories for ten stores across three states. The accuracy of our predictions will be measured automatically by the Kaggle platform by comparing our predictions to the actual sales of the two 28 day time periods in their datasets.\n",
    "\n",
    "From the business perspectives, successfully predicting the daily sales would allow the organization to implement this algorithm for all stores across the globe to improve their operational efficiency in inventory planning and better serve their customers. In addition, knowing actual demand of products also reveals opportunities in product sourcing and making better decisions in marketing strategy.\n"
   ]
  },
  {
   "cell_type": "markdown",
   "id": "d77ddf02",
   "metadata": {},
   "source": [
    "## II.\tTechnical Specifications & Solution Overview <a name=\"tech\"></a>"
   ]
  },
  {
   "cell_type": "markdown",
   "id": "98a51071",
   "metadata": {},
   "source": [
    "### 2.1 Tools  <a name=\"tool\"></a>"
   ]
  },
  {
   "cell_type": "markdown",
   "id": "b4c82485",
   "metadata": {},
   "source": [
    "- Pandas\n",
    "- Numpy\n",
    "- Sklearn\n",
    "- Lightgbm\n",
    "- Scipy\n",
    "- Pickle"
   ]
  },
  {
   "cell_type": "code",
   "execution_count": 3,
   "id": "96598df4",
   "metadata": {},
   "outputs": [],
   "source": [
    "# Import libaries\n",
    "%matplotlib inline\n",
    "import warnings\n",
    "warnings.filterwarnings('ignore')\n",
    "import pandas as pd\n",
    "import numpy as np\n",
    "from IPython.core.interactiveshell import InteractiveShell\n",
    "InteractiveShell.ast_node_interactivity = \"all\"\n",
    "from sklearn.preprocessing import LabelEncoder\n",
    "from sklearn.metrics import mean_squared_error\n",
    "from lightgbm import LGBMRegressor\n",
    "import pickle\n",
    "from sklearn.metrics import make_scorer\n",
    "from sklearn.model_selection import TimeSeriesSplit\n",
    "from sklearn.model_selection import RandomizedSearchCV\n",
    "from sklearn.metrics import mean_squared_error\n",
    "def rmse(y_true, y_pred):\n",
    "    return np.sqrt(mean_squared_error(y_true, y_pred))"
   ]
  },
  {
   "cell_type": "markdown",
   "id": "d5063750",
   "metadata": {},
   "source": [
    "### 2.2 Datasets <a name=\"data\"></a>"
   ]
  },
  {
   "cell_type": "markdown",
   "id": "b037aed8",
   "metadata": {},
   "source": [
    "The datasets we used in this project were provided by the Kaggle competition. There are four main data files, and below are the descriptions of each files:\n",
    "1.\t`calendar.csv` - This file contains information about the dates on which the products are sold.\n",
    "2.\t`sales_train_validation.csv` - This file contains the historical daily unit sales data per product and store from day 1 to day 1919.\n",
    "3.\t`sell_prices.csv` - This file contains information about the price of the products sold per store and date. \n",
    "4.\t`sales_train_evaluation.csv` - This file contains the same historical daily unit sales data per product and store like the sales_train_validation dataset, but it also contains sales data from day 1920  to day 1941.\n"
   ]
  },
  {
   "cell_type": "code",
   "execution_count": 4,
   "id": "1f3e07b4",
   "metadata": {},
   "outputs": [],
   "source": [
    "# from google.colab import drive\n",
    " \n",
    "# drive.mount('/content/drive')\n",
    "# %cd '/content/drive/Shared drives/Predictive Analysis- Walmart'"
   ]
  },
  {
   "cell_type": "code",
   "execution_count": null,
   "id": "2ce64fe8",
   "metadata": {},
   "outputs": [],
   "source": [
    "sales_train_evaluation_ = pd.read_csv('/content/sales_train_evaluation.csv')\n",
    "calendar_ = pd.read_csv('/content/calendar.csv')\n",
    "sell_prices_ = pd.read_csv('/content/sell_prices.csv')\n",
    "STORES_IDS = list(sales_train_evaluation_['store_id'].unique())"
   ]
  },
  {
   "cell_type": "markdown",
   "id": "9d064a8b",
   "metadata": {},
   "source": [
    "### 2.3 Solution Overview <a name=\"solution\"></a>"
   ]
  },
  {
   "cell_type": "markdown",
   "id": "5bd93c80",
   "metadata": {},
   "source": [
    "Our solutions aims to solve this forecasting problem with $Ensembling Model-Boosting$\n",
    "\n",
    "$LightGBM$ is a gradient boosting framework that uses tree based learning algorithms. It is designed to be distributed and efficient with the following advantages: \n",
    "- Faster training speed and higher efficiency.\n",
    "- Lower memory usage.\n",
    "- Better accuracy.\n",
    "- Support of parallel, distributed, and GPU learning.\n",
    "- Capable of handling large-scale data.\n"
   ]
  },
  {
   "cell_type": "markdown",
   "id": "7ab79c28",
   "metadata": {},
   "source": [
    "## III.\tExploratory Analysis <a name=\"eda\"></a>"
   ]
  },
  {
   "cell_type": "markdown",
   "id": "d91b7197",
   "metadata": {},
   "source": [
    "**1. Calendar dataset**"
   ]
  },
  {
   "cell_type": "code",
   "execution_count": 4,
   "id": "7c720c2f",
   "metadata": {},
   "outputs": [
    {
     "name": "stdout",
     "output_type": "stream",
     "text": [
      "<class 'pandas.core.frame.DataFrame'>\n",
      "RangeIndex: 1969 entries, 0 to 1968\n",
      "Data columns (total 14 columns):\n",
      " #   Column        Non-Null Count  Dtype \n",
      "---  ------        --------------  ----- \n",
      " 0   date          1969 non-null   object\n",
      " 1   wm_yr_wk      1969 non-null   int64 \n",
      " 2   weekday       1969 non-null   object\n",
      " 3   wday          1969 non-null   int64 \n",
      " 4   month         1969 non-null   int64 \n",
      " 5   year          1969 non-null   int64 \n",
      " 6   d             1969 non-null   object\n",
      " 7   event_name_1  162 non-null    object\n",
      " 8   event_type_1  162 non-null    object\n",
      " 9   event_name_2  5 non-null      object\n",
      " 10  event_type_2  5 non-null      object\n",
      " 11  snap_CA       1969 non-null   int64 \n",
      " 12  snap_TX       1969 non-null   int64 \n",
      " 13  snap_WI       1969 non-null   int64 \n",
      "dtypes: int64(7), object(7)\n",
      "memory usage: 215.5+ KB\n"
     ]
    }
   ],
   "source": [
    "calendar.info()"
   ]
  },
  {
   "cell_type": "code",
   "execution_count": 5,
   "id": "1e375ce2",
   "metadata": {},
   "outputs": [
    {
     "data": {
      "text/html": [
       "<div>\n",
       "<style scoped>\n",
       "    .dataframe tbody tr th:only-of-type {\n",
       "        vertical-align: middle;\n",
       "    }\n",
       "\n",
       "    .dataframe tbody tr th {\n",
       "        vertical-align: top;\n",
       "    }\n",
       "\n",
       "    .dataframe thead th {\n",
       "        text-align: right;\n",
       "    }\n",
       "</style>\n",
       "<table border=\"1\" class=\"dataframe\">\n",
       "  <thead>\n",
       "    <tr style=\"text-align: right;\">\n",
       "      <th></th>\n",
       "      <th>date</th>\n",
       "      <th>wm_yr_wk</th>\n",
       "      <th>weekday</th>\n",
       "      <th>wday</th>\n",
       "      <th>month</th>\n",
       "      <th>year</th>\n",
       "      <th>d</th>\n",
       "      <th>event_name_1</th>\n",
       "      <th>event_type_1</th>\n",
       "      <th>event_name_2</th>\n",
       "      <th>event_type_2</th>\n",
       "      <th>snap_CA</th>\n",
       "      <th>snap_TX</th>\n",
       "      <th>snap_WI</th>\n",
       "    </tr>\n",
       "  </thead>\n",
       "  <tbody>\n",
       "    <tr>\n",
       "      <th>0</th>\n",
       "      <td>2011-01-29</td>\n",
       "      <td>11101</td>\n",
       "      <td>Saturday</td>\n",
       "      <td>1</td>\n",
       "      <td>1</td>\n",
       "      <td>2011</td>\n",
       "      <td>d_1</td>\n",
       "      <td>NaN</td>\n",
       "      <td>NaN</td>\n",
       "      <td>NaN</td>\n",
       "      <td>NaN</td>\n",
       "      <td>0</td>\n",
       "      <td>0</td>\n",
       "      <td>0</td>\n",
       "    </tr>\n",
       "    <tr>\n",
       "      <th>1</th>\n",
       "      <td>2011-01-30</td>\n",
       "      <td>11101</td>\n",
       "      <td>Sunday</td>\n",
       "      <td>2</td>\n",
       "      <td>1</td>\n",
       "      <td>2011</td>\n",
       "      <td>d_2</td>\n",
       "      <td>NaN</td>\n",
       "      <td>NaN</td>\n",
       "      <td>NaN</td>\n",
       "      <td>NaN</td>\n",
       "      <td>0</td>\n",
       "      <td>0</td>\n",
       "      <td>0</td>\n",
       "    </tr>\n",
       "  </tbody>\n",
       "</table>\n",
       "</div>"
      ],
      "text/plain": [
       "         date  wm_yr_wk   weekday  wday  month  year    d event_name_1  \\\n",
       "0  2011-01-29     11101  Saturday     1      1  2011  d_1          NaN   \n",
       "1  2011-01-30     11101    Sunday     2      1  2011  d_2          NaN   \n",
       "\n",
       "  event_type_1 event_name_2 event_type_2  snap_CA  snap_TX  snap_WI  \n",
       "0          NaN          NaN          NaN        0        0        0  \n",
       "1          NaN          NaN          NaN        0        0        0  "
      ]
     },
     "execution_count": 5,
     "metadata": {},
     "output_type": "execute_result"
    }
   ],
   "source": [
    "calendar.head(2)"
   ]
  },
  {
   "cell_type": "code",
   "execution_count": 6,
   "id": "6cd2c6d2",
   "metadata": {},
   "outputs": [
    {
     "data": {
      "text/html": [
       "<div>\n",
       "<style scoped>\n",
       "    .dataframe tbody tr th:only-of-type {\n",
       "        vertical-align: middle;\n",
       "    }\n",
       "\n",
       "    .dataframe tbody tr th {\n",
       "        vertical-align: top;\n",
       "    }\n",
       "\n",
       "    .dataframe thead th {\n",
       "        text-align: right;\n",
       "    }\n",
       "</style>\n",
       "<table border=\"1\" class=\"dataframe\">\n",
       "  <thead>\n",
       "    <tr style=\"text-align: right;\">\n",
       "      <th></th>\n",
       "      <th>date</th>\n",
       "      <th>wm_yr_wk</th>\n",
       "      <th>weekday</th>\n",
       "      <th>wday</th>\n",
       "      <th>month</th>\n",
       "      <th>year</th>\n",
       "      <th>d</th>\n",
       "      <th>event_name_1</th>\n",
       "      <th>event_type_1</th>\n",
       "      <th>event_name_2</th>\n",
       "      <th>event_type_2</th>\n",
       "      <th>snap_CA</th>\n",
       "      <th>snap_TX</th>\n",
       "      <th>snap_WI</th>\n",
       "    </tr>\n",
       "  </thead>\n",
       "  <tbody>\n",
       "    <tr>\n",
       "      <th>1967</th>\n",
       "      <td>2016-06-18</td>\n",
       "      <td>11621</td>\n",
       "      <td>Saturday</td>\n",
       "      <td>1</td>\n",
       "      <td>6</td>\n",
       "      <td>2016</td>\n",
       "      <td>d_1968</td>\n",
       "      <td>NaN</td>\n",
       "      <td>NaN</td>\n",
       "      <td>NaN</td>\n",
       "      <td>NaN</td>\n",
       "      <td>0</td>\n",
       "      <td>0</td>\n",
       "      <td>0</td>\n",
       "    </tr>\n",
       "    <tr>\n",
       "      <th>1968</th>\n",
       "      <td>2016-06-19</td>\n",
       "      <td>11621</td>\n",
       "      <td>Sunday</td>\n",
       "      <td>2</td>\n",
       "      <td>6</td>\n",
       "      <td>2016</td>\n",
       "      <td>d_1969</td>\n",
       "      <td>NBAFinalsEnd</td>\n",
       "      <td>Sporting</td>\n",
       "      <td>Father's day</td>\n",
       "      <td>Cultural</td>\n",
       "      <td>0</td>\n",
       "      <td>0</td>\n",
       "      <td>0</td>\n",
       "    </tr>\n",
       "  </tbody>\n",
       "</table>\n",
       "</div>"
      ],
      "text/plain": [
       "            date  wm_yr_wk   weekday  wday  month  year       d  event_name_1  \\\n",
       "1967  2016-06-18     11621  Saturday     1      6  2016  d_1968           NaN   \n",
       "1968  2016-06-19     11621    Sunday     2      6  2016  d_1969  NBAFinalsEnd   \n",
       "\n",
       "     event_type_1  event_name_2 event_type_2  snap_CA  snap_TX  snap_WI  \n",
       "1967          NaN           NaN          NaN        0        0        0  \n",
       "1968     Sporting  Father's day     Cultural        0        0        0  "
      ]
     },
     "execution_count": 6,
     "metadata": {},
     "output_type": "execute_result"
    }
   ],
   "source": [
    "calendar.tail(2)"
   ]
  },
  {
   "cell_type": "markdown",
   "id": "14331d70",
   "metadata": {},
   "source": [
    "#### 1a.1 Data duration"
   ]
  },
  {
   "cell_type": "code",
   "execution_count": 7,
   "id": "2d34edb6",
   "metadata": {},
   "outputs": [
    {
     "data": {
      "text/plain": [
       "array([2011, 2012, 2013, 2014, 2015, 2016], dtype=int64)"
      ]
     },
     "execution_count": 7,
     "metadata": {},
     "output_type": "execute_result"
    }
   ],
   "source": [
    "calendar['year'].unique()"
   ]
  },
  {
   "cell_type": "code",
   "execution_count": 8,
   "id": "6f23deb5",
   "metadata": {},
   "outputs": [
    {
     "data": {
      "text/html": [
       "<div>\n",
       "<style scoped>\n",
       "    .dataframe tbody tr th:only-of-type {\n",
       "        vertical-align: middle;\n",
       "    }\n",
       "\n",
       "    .dataframe tbody tr th {\n",
       "        vertical-align: top;\n",
       "    }\n",
       "\n",
       "    .dataframe thead th {\n",
       "        text-align: right;\n",
       "    }\n",
       "</style>\n",
       "<table border=\"1\" class=\"dataframe\">\n",
       "  <thead>\n",
       "    <tr style=\"text-align: right;\">\n",
       "      <th></th>\n",
       "      <th>year</th>\n",
       "      <th>month</th>\n",
       "      <th>days of the month</th>\n",
       "    </tr>\n",
       "  </thead>\n",
       "  <tbody>\n",
       "    <tr>\n",
       "      <th>0</th>\n",
       "      <td>2011</td>\n",
       "      <td>1</td>\n",
       "      <td>3</td>\n",
       "    </tr>\n",
       "    <tr>\n",
       "      <th>1</th>\n",
       "      <td>2011</td>\n",
       "      <td>2</td>\n",
       "      <td>28</td>\n",
       "    </tr>\n",
       "    <tr>\n",
       "      <th>2</th>\n",
       "      <td>2011</td>\n",
       "      <td>3</td>\n",
       "      <td>31</td>\n",
       "    </tr>\n",
       "    <tr>\n",
       "      <th>3</th>\n",
       "      <td>2011</td>\n",
       "      <td>4</td>\n",
       "      <td>30</td>\n",
       "    </tr>\n",
       "    <tr>\n",
       "      <th>4</th>\n",
       "      <td>2011</td>\n",
       "      <td>5</td>\n",
       "      <td>31</td>\n",
       "    </tr>\n",
       "    <tr>\n",
       "      <th>...</th>\n",
       "      <td>...</td>\n",
       "      <td>...</td>\n",
       "      <td>...</td>\n",
       "    </tr>\n",
       "    <tr>\n",
       "      <th>61</th>\n",
       "      <td>2016</td>\n",
       "      <td>2</td>\n",
       "      <td>29</td>\n",
       "    </tr>\n",
       "    <tr>\n",
       "      <th>62</th>\n",
       "      <td>2016</td>\n",
       "      <td>3</td>\n",
       "      <td>31</td>\n",
       "    </tr>\n",
       "    <tr>\n",
       "      <th>63</th>\n",
       "      <td>2016</td>\n",
       "      <td>4</td>\n",
       "      <td>30</td>\n",
       "    </tr>\n",
       "    <tr>\n",
       "      <th>64</th>\n",
       "      <td>2016</td>\n",
       "      <td>5</td>\n",
       "      <td>31</td>\n",
       "    </tr>\n",
       "    <tr>\n",
       "      <th>65</th>\n",
       "      <td>2016</td>\n",
       "      <td>6</td>\n",
       "      <td>19</td>\n",
       "    </tr>\n",
       "  </tbody>\n",
       "</table>\n",
       "<p>66 rows × 3 columns</p>\n",
       "</div>"
      ],
      "text/plain": [
       "    year  month  days of the month\n",
       "0   2011      1                  3\n",
       "1   2011      2                 28\n",
       "2   2011      3                 31\n",
       "3   2011      4                 30\n",
       "4   2011      5                 31\n",
       "..   ...    ...                ...\n",
       "61  2016      2                 29\n",
       "62  2016      3                 31\n",
       "63  2016      4                 30\n",
       "64  2016      5                 31\n",
       "65  2016      6                 19\n",
       "\n",
       "[66 rows x 3 columns]"
      ]
     },
     "execution_count": 8,
     "metadata": {},
     "output_type": "execute_result"
    }
   ],
   "source": [
    "months = calendar.groupby(['year','month']).size().to_frame(name = 'days of the month').reset_index()\n",
    "months"
   ]
  },
  {
   "cell_type": "code",
   "execution_count": 9,
   "id": "f55a9b9e",
   "metadata": {},
   "outputs": [
    {
     "data": {
      "text/plain": [
       "(66, 3)"
      ]
     },
     "execution_count": 9,
     "metadata": {},
     "output_type": "execute_result"
    }
   ],
   "source": [
    "months.shape"
   ]
  },
  {
   "cell_type": "markdown",
   "id": "c9cc7df3",
   "metadata": {},
   "source": [
    "The data is from 2011-2016 (specifically from 2011-01-29 to 2016-06-19), total of 66 months while first month only have 3 days and last month only have 19 days. Total 1969 days."
   ]
  },
  {
   "cell_type": "markdown",
   "id": "a5650bfb",
   "metadata": {},
   "source": [
    "#### 1a.2 Event types"
   ]
  },
  {
   "cell_type": "code",
   "execution_count": 10,
   "id": "21a92df2",
   "metadata": {},
   "outputs": [],
   "source": [
    "Etype1= calendar.groupby(['event_type_1']).size().to_frame(name = 'count').reset_index()"
   ]
  },
  {
   "cell_type": "code",
   "execution_count": 11,
   "id": "bceef7cd",
   "metadata": {},
   "outputs": [
    {
     "data": {
      "image/png": "[encoded data removed]",
      "text/plain": [
       "<Figure size 640x480 with 1 Axes>"
      ]
     },
     "metadata": {},
     "output_type": "display_data"
    }
   ],
   "source": [
    "# plot event type 1\n",
    "e1 = sns.barplot(data=Etype1, x='event_type_1', y=\"count\")\n",
    "\n",
    "# add label for each type\n",
    "for i in e1.containers:\n",
    "    e1.bar_label(i,)"
   ]
  },
  {
   "cell_type": "code",
   "execution_count": 12,
   "id": "8aa50c28",
   "metadata": {},
   "outputs": [
    {
     "data": {
      "image/png": "[encoded data removed]",
      "text/plain": [
       "<Figure size 640x480 with 1 Axes>"
      ]
     },
     "metadata": {},
     "output_type": "display_data"
    }
   ],
   "source": [
    "Etype2= calendar.groupby(['event_type_2']).size().to_frame(name = 'count').reset_index()\n",
    "\n",
    "# plot number of event type 2\n",
    "e2 = sns.barplot(data=Etype2, x='event_type_2', y=\"count\")\n",
    "\n",
    "# add label\n",
    "for i in e2.containers:\n",
    "    e2.bar_label(i,)"
   ]
  },
  {
   "cell_type": "code",
   "execution_count": 13,
   "id": "e8e3dd32",
   "metadata": {},
   "outputs": [
    {
     "data": {
      "text/html": [
       "<div>\n",
       "<style scoped>\n",
       "    .dataframe tbody tr th:only-of-type {\n",
       "        vertical-align: middle;\n",
       "    }\n",
       "\n",
       "    .dataframe tbody tr th {\n",
       "        vertical-align: top;\n",
       "    }\n",
       "\n",
       "    .dataframe thead th {\n",
       "        text-align: right;\n",
       "    }\n",
       "</style>\n",
       "<table border=\"1\" class=\"dataframe\">\n",
       "  <thead>\n",
       "    <tr style=\"text-align: right;\">\n",
       "      <th></th>\n",
       "      <th>date</th>\n",
       "      <th>wm_yr_wk</th>\n",
       "      <th>weekday</th>\n",
       "      <th>wday</th>\n",
       "      <th>month</th>\n",
       "      <th>year</th>\n",
       "      <th>d</th>\n",
       "      <th>event_name_1</th>\n",
       "      <th>event_type_1</th>\n",
       "      <th>event_name_2</th>\n",
       "      <th>event_type_2</th>\n",
       "      <th>snap_CA</th>\n",
       "      <th>snap_TX</th>\n",
       "      <th>snap_WI</th>\n",
       "    </tr>\n",
       "  </thead>\n",
       "  <tbody>\n",
       "    <tr>\n",
       "      <th>0</th>\n",
       "      <td>2011-01-29</td>\n",
       "      <td>11101</td>\n",
       "      <td>Saturday</td>\n",
       "      <td>1</td>\n",
       "      <td>1</td>\n",
       "      <td>2011</td>\n",
       "      <td>d_1</td>\n",
       "      <td>NaN</td>\n",
       "      <td>NaN</td>\n",
       "      <td>NaN</td>\n",
       "      <td>NaN</td>\n",
       "      <td>0</td>\n",
       "      <td>0</td>\n",
       "      <td>0</td>\n",
       "    </tr>\n",
       "    <tr>\n",
       "      <th>1</th>\n",
       "      <td>2011-01-30</td>\n",
       "      <td>11101</td>\n",
       "      <td>Sunday</td>\n",
       "      <td>2</td>\n",
       "      <td>1</td>\n",
       "      <td>2011</td>\n",
       "      <td>d_2</td>\n",
       "      <td>NaN</td>\n",
       "      <td>NaN</td>\n",
       "      <td>NaN</td>\n",
       "      <td>NaN</td>\n",
       "      <td>0</td>\n",
       "      <td>0</td>\n",
       "      <td>0</td>\n",
       "    </tr>\n",
       "    <tr>\n",
       "      <th>2</th>\n",
       "      <td>2011-01-31</td>\n",
       "      <td>11101</td>\n",
       "      <td>Monday</td>\n",
       "      <td>3</td>\n",
       "      <td>1</td>\n",
       "      <td>2011</td>\n",
       "      <td>d_3</td>\n",
       "      <td>NaN</td>\n",
       "      <td>NaN</td>\n",
       "      <td>NaN</td>\n",
       "      <td>NaN</td>\n",
       "      <td>0</td>\n",
       "      <td>0</td>\n",
       "      <td>0</td>\n",
       "    </tr>\n",
       "    <tr>\n",
       "      <th>3</th>\n",
       "      <td>2011-02-01</td>\n",
       "      <td>11101</td>\n",
       "      <td>Tuesday</td>\n",
       "      <td>4</td>\n",
       "      <td>2</td>\n",
       "      <td>2011</td>\n",
       "      <td>d_4</td>\n",
       "      <td>NaN</td>\n",
       "      <td>NaN</td>\n",
       "      <td>NaN</td>\n",
       "      <td>NaN</td>\n",
       "      <td>1</td>\n",
       "      <td>1</td>\n",
       "      <td>0</td>\n",
       "    </tr>\n",
       "    <tr>\n",
       "      <th>4</th>\n",
       "      <td>2011-02-02</td>\n",
       "      <td>11101</td>\n",
       "      <td>Wednesday</td>\n",
       "      <td>5</td>\n",
       "      <td>2</td>\n",
       "      <td>2011</td>\n",
       "      <td>d_5</td>\n",
       "      <td>NaN</td>\n",
       "      <td>NaN</td>\n",
       "      <td>NaN</td>\n",
       "      <td>NaN</td>\n",
       "      <td>1</td>\n",
       "      <td>0</td>\n",
       "      <td>1</td>\n",
       "    </tr>\n",
       "    <tr>\n",
       "      <th>...</th>\n",
       "      <td>...</td>\n",
       "      <td>...</td>\n",
       "      <td>...</td>\n",
       "      <td>...</td>\n",
       "      <td>...</td>\n",
       "      <td>...</td>\n",
       "      <td>...</td>\n",
       "      <td>...</td>\n",
       "      <td>...</td>\n",
       "      <td>...</td>\n",
       "      <td>...</td>\n",
       "      <td>...</td>\n",
       "      <td>...</td>\n",
       "      <td>...</td>\n",
       "    </tr>\n",
       "    <tr>\n",
       "      <th>1964</th>\n",
       "      <td>2016-06-15</td>\n",
       "      <td>11620</td>\n",
       "      <td>Wednesday</td>\n",
       "      <td>5</td>\n",
       "      <td>6</td>\n",
       "      <td>2016</td>\n",
       "      <td>d_1965</td>\n",
       "      <td>NaN</td>\n",
       "      <td>NaN</td>\n",
       "      <td>NaN</td>\n",
       "      <td>NaN</td>\n",
       "      <td>0</td>\n",
       "      <td>1</td>\n",
       "      <td>1</td>\n",
       "    </tr>\n",
       "    <tr>\n",
       "      <th>1965</th>\n",
       "      <td>2016-06-16</td>\n",
       "      <td>11620</td>\n",
       "      <td>Thursday</td>\n",
       "      <td>6</td>\n",
       "      <td>6</td>\n",
       "      <td>2016</td>\n",
       "      <td>d_1966</td>\n",
       "      <td>NaN</td>\n",
       "      <td>NaN</td>\n",
       "      <td>NaN</td>\n",
       "      <td>NaN</td>\n",
       "      <td>0</td>\n",
       "      <td>0</td>\n",
       "      <td>0</td>\n",
       "    </tr>\n",
       "    <tr>\n",
       "      <th>1966</th>\n",
       "      <td>2016-06-17</td>\n",
       "      <td>11620</td>\n",
       "      <td>Friday</td>\n",
       "      <td>7</td>\n",
       "      <td>6</td>\n",
       "      <td>2016</td>\n",
       "      <td>d_1967</td>\n",
       "      <td>NaN</td>\n",
       "      <td>NaN</td>\n",
       "      <td>NaN</td>\n",
       "      <td>NaN</td>\n",
       "      <td>0</td>\n",
       "      <td>0</td>\n",
       "      <td>0</td>\n",
       "    </tr>\n",
       "    <tr>\n",
       "      <th>1967</th>\n",
       "      <td>2016-06-18</td>\n",
       "      <td>11621</td>\n",
       "      <td>Saturday</td>\n",
       "      <td>1</td>\n",
       "      <td>6</td>\n",
       "      <td>2016</td>\n",
       "      <td>d_1968</td>\n",
       "      <td>NaN</td>\n",
       "      <td>NaN</td>\n",
       "      <td>NaN</td>\n",
       "      <td>NaN</td>\n",
       "      <td>0</td>\n",
       "      <td>0</td>\n",
       "      <td>0</td>\n",
       "    </tr>\n",
       "    <tr>\n",
       "      <th>1968</th>\n",
       "      <td>2016-06-19</td>\n",
       "      <td>11621</td>\n",
       "      <td>Sunday</td>\n",
       "      <td>2</td>\n",
       "      <td>6</td>\n",
       "      <td>2016</td>\n",
       "      <td>d_1969</td>\n",
       "      <td>NBAFinalsEnd</td>\n",
       "      <td>Sporting</td>\n",
       "      <td>Father's day</td>\n",
       "      <td>Cultural</td>\n",
       "      <td>0</td>\n",
       "      <td>0</td>\n",
       "      <td>0</td>\n",
       "    </tr>\n",
       "  </tbody>\n",
       "</table>\n",
       "<p>1969 rows × 14 columns</p>\n",
       "</div>"
      ],
      "text/plain": [
       "            date  wm_yr_wk    weekday  wday  month  year       d  \\\n",
       "0     2011-01-29     11101   Saturday     1      1  2011     d_1   \n",
       "1     2011-01-30     11101     Sunday     2      1  2011     d_2   \n",
       "2     2011-01-31     11101     Monday     3      1  2011     d_3   \n",
       "3     2011-02-01     11101    Tuesday     4      2  2011     d_4   \n",
       "4     2011-02-02     11101  Wednesday     5      2  2011     d_5   \n",
       "...          ...       ...        ...   ...    ...   ...     ...   \n",
       "1964  2016-06-15     11620  Wednesday     5      6  2016  d_1965   \n",
       "1965  2016-06-16     11620   Thursday     6      6  2016  d_1966   \n",
       "1966  2016-06-17     11620     Friday     7      6  2016  d_1967   \n",
       "1967  2016-06-18     11621   Saturday     1      6  2016  d_1968   \n",
       "1968  2016-06-19     11621     Sunday     2      6  2016  d_1969   \n",
       "\n",
       "      event_name_1 event_type_1  event_name_2 event_type_2  snap_CA  snap_TX  \\\n",
       "0              NaN          NaN           NaN          NaN        0        0   \n",
       "1              NaN          NaN           NaN          NaN        0        0   \n",
       "2              NaN          NaN           NaN          NaN        0        0   \n",
       "3              NaN          NaN           NaN          NaN        1        1   \n",
       "4              NaN          NaN           NaN          NaN        1        0   \n",
       "...            ...          ...           ...          ...      ...      ...   \n",
       "1964           NaN          NaN           NaN          NaN        0        1   \n",
       "1965           NaN          NaN           NaN          NaN        0        0   \n",
       "1966           NaN          NaN           NaN          NaN        0        0   \n",
       "1967           NaN          NaN           NaN          NaN        0        0   \n",
       "1968  NBAFinalsEnd     Sporting  Father's day     Cultural        0        0   \n",
       "\n",
       "      snap_WI  \n",
       "0           0  \n",
       "1           0  \n",
       "2           0  \n",
       "3           0  \n",
       "4           1  \n",
       "...       ...  \n",
       "1964        1  \n",
       "1965        0  \n",
       "1966        0  \n",
       "1967        0  \n",
       "1968        0  \n",
       "\n",
       "[1969 rows x 14 columns]"
      ]
     },
     "execution_count": 13,
     "metadata": {},
     "output_type": "execute_result"
    }
   ],
   "source": [
    "calendar[(calendar['event_type_1'] != 0) & (calendar['event_type_2'] != 0)]"
   ]
  },
  {
   "cell_type": "markdown",
   "id": "d2a1f42f",
   "metadata": {},
   "source": [
    "There are four event type: Culture, National, Religious, and Sporting. There are 5 days, where there are two type of events occur on the same day."
   ]
  },
  {
   "cell_type": "code",
   "execution_count": 14,
   "id": "f5b08694",
   "metadata": {},
   "outputs": [
    {
     "data": {
      "text/plain": [
       "year  event_type_1\n",
       "2011  Cultural         6\n",
       "      National         8\n",
       "      Religious        9\n",
       "      Sporting         3\n",
       "2012  Cultural         7\n",
       "      National        10\n",
       "      Religious       10\n",
       "      Sporting         3\n",
       "2013  Cultural         6\n",
       "      National        10\n",
       "      Religious       10\n",
       "      Sporting         3\n",
       "2014  Cultural         6\n",
       "      National        10\n",
       "      Religious        9\n",
       "      Sporting         3\n",
       "2015  Cultural         7\n",
       "      National        10\n",
       "      Religious       10\n",
       "      Sporting         3\n",
       "2016  Cultural         5\n",
       "      National         4\n",
       "      Religious        7\n",
       "      Sporting         3\n",
       "Name: event_type_1, dtype: int64"
      ]
     },
     "execution_count": 14,
     "metadata": {},
     "output_type": "execute_result"
    }
   ],
   "source": [
    "# number of events per type per years\n",
    "type1 = calendar.groupby(by = ['year','event_type_1'])['event_type_1'].count()\n",
    "type1"
   ]
  },
  {
   "cell_type": "code",
   "execution_count": 15,
   "id": "07f111c7",
   "metadata": {},
   "outputs": [
    {
     "data": {
      "text/plain": [
       "year  event_type_2\n",
       "2011  Cultural        1\n",
       "2013  Cultural        1\n",
       "2014  Cultural        1\n",
       "      Religious       1\n",
       "2016  Cultural        1\n",
       "Name: event_type_2, dtype: int64"
      ]
     },
     "execution_count": 15,
     "metadata": {},
     "output_type": "execute_result"
    }
   ],
   "source": [
    "type2 = calendar.groupby(by = ['year','event_type_2'])['event_type_2'].count()\n",
    "type2"
   ]
  },
  {
   "cell_type": "markdown",
   "id": "425f0398",
   "metadata": {},
   "source": [
    "#### 1a.3 SNAP per State\n",
    "\n",
    "Same for all 3 states, so only show one illustration:"
   ]
  },
  {
   "cell_type": "code",
   "execution_count": 16,
   "id": "09651599",
   "metadata": {},
   "outputs": [
    {
     "data": {
      "image/png": "[encoded data removed]",
      "text/plain": [
       "<Figure size 640x480 with 1 Axes>"
      ]
     },
     "metadata": {},
     "output_type": "display_data"
    }
   ],
   "source": [
    "snapCA= calendar.groupby(['snap_CA']).size().to_frame(name = 'count').reset_index()\n",
    "\n",
    "snapca = sns.barplot(data=snapCA, x='snap_CA', y=\"count\", color = 'pink')\n",
    "for i in snapca.containers:\n",
    "    snapca.bar_label(i,)"
   ]
  },
  {
   "cell_type": "markdown",
   "id": "a232fe1a",
   "metadata": {},
   "source": [
    "#### 2. Price dataset"
   ]
  },
  {
   "cell_type": "code",
   "execution_count": 19,
   "id": "99f17e4b",
   "metadata": {},
   "outputs": [
    {
     "name": "stdout",
     "output_type": "stream",
     "text": [
      "<class 'pandas.core.frame.DataFrame'>\n",
      "RangeIndex: 6841121 entries, 0 to 6841120\n",
      "Data columns (total 4 columns):\n",
      " #   Column      Dtype  \n",
      "---  ------      -----  \n",
      " 0   store_id    object \n",
      " 1   item_id     object \n",
      " 2   wm_yr_wk    int64  \n",
      " 3   sell_price  float64\n",
      "dtypes: float64(1), int64(1), object(2)\n",
      "memory usage: 208.8+ MB\n"
     ]
    }
   ],
   "source": [
    "price.info()"
   ]
  },
  {
   "cell_type": "code",
   "execution_count": 20,
   "id": "fc774e12",
   "metadata": {},
   "outputs": [
    {
     "data": {
      "text/html": [
       "<div>\n",
       "<style scoped>\n",
       "    .dataframe tbody tr th:only-of-type {\n",
       "        vertical-align: middle;\n",
       "    }\n",
       "\n",
       "    .dataframe tbody tr th {\n",
       "        vertical-align: top;\n",
       "    }\n",
       "\n",
       "    .dataframe thead th {\n",
       "        text-align: right;\n",
       "    }\n",
       "</style>\n",
       "<table border=\"1\" class=\"dataframe\">\n",
       "  <thead>\n",
       "    <tr style=\"text-align: right;\">\n",
       "      <th></th>\n",
       "      <th>store_id</th>\n",
       "      <th>item_id</th>\n",
       "      <th>wm_yr_wk</th>\n",
       "      <th>sell_price</th>\n",
       "    </tr>\n",
       "  </thead>\n",
       "  <tbody>\n",
       "    <tr>\n",
       "      <th>0</th>\n",
       "      <td>CA_1</td>\n",
       "      <td>HOBBIES_1_001</td>\n",
       "      <td>11325</td>\n",
       "      <td>9.58</td>\n",
       "    </tr>\n",
       "    <tr>\n",
       "      <th>1</th>\n",
       "      <td>CA_1</td>\n",
       "      <td>HOBBIES_1_001</td>\n",
       "      <td>11326</td>\n",
       "      <td>9.58</td>\n",
       "    </tr>\n",
       "    <tr>\n",
       "      <th>2</th>\n",
       "      <td>CA_1</td>\n",
       "      <td>HOBBIES_1_001</td>\n",
       "      <td>11327</td>\n",
       "      <td>8.26</td>\n",
       "    </tr>\n",
       "  </tbody>\n",
       "</table>\n",
       "</div>"
      ],
      "text/plain": [
       "  store_id        item_id  wm_yr_wk  sell_price\n",
       "0     CA_1  HOBBIES_1_001     11325        9.58\n",
       "1     CA_1  HOBBIES_1_001     11326        9.58\n",
       "2     CA_1  HOBBIES_1_001     11327        8.26"
      ]
     },
     "execution_count": 20,
     "metadata": {},
     "output_type": "execute_result"
    }
   ],
   "source": [
    "price.head(3)"
   ]
  },
  {
   "cell_type": "code",
   "execution_count": 21,
   "id": "935024e6",
   "metadata": {},
   "outputs": [
    {
     "data": {
      "text/plain": [
       "array(['CA_1', 'CA_2', 'CA_3', 'CA_4', 'TX_1', 'TX_2', 'TX_3', 'WI_1',\n",
       "       'WI_2', 'WI_3'], dtype=object)"
      ]
     },
     "execution_count": 21,
     "metadata": {},
     "output_type": "execute_result"
    }
   ],
   "source": [
    "price.store_id.unique()"
   ]
  },
  {
   "cell_type": "code",
   "execution_count": 22,
   "id": "60615a6a",
   "metadata": {},
   "outputs": [
    {
     "data": {
      "text/plain": [
       "10"
      ]
     },
     "execution_count": 22,
     "metadata": {},
     "output_type": "execute_result"
    }
   ],
   "source": [
    "price['store_id'].nunique()"
   ]
  },
  {
   "cell_type": "code",
   "execution_count": 23,
   "id": "b9ae2191",
   "metadata": {},
   "outputs": [
    {
     "data": {
      "text/plain": [
       "3049"
      ]
     },
     "execution_count": 23,
     "metadata": {},
     "output_type": "execute_result"
    }
   ],
   "source": [
    "price.item_id.nunique()"
   ]
  },
  {
   "cell_type": "markdown",
   "id": "d286186c",
   "metadata": {},
   "source": [
    "There are total 10 stores. 4 in CA, 3 in TX, and 3 in WI. And there are total of 3049 items."
   ]
  },
  {
   "cell_type": "markdown",
   "id": "60d8c5eb",
   "metadata": {},
   "source": [
    "#### 3. sales_train dataset"
   ]
  },
  {
   "cell_type": "code",
   "execution_count": 24,
   "id": "eae2668e",
   "metadata": {},
   "outputs": [
    {
     "name": "stdout",
     "output_type": "stream",
     "text": [
      "<class 'pandas.core.frame.DataFrame'>\n",
      "RangeIndex: 30490 entries, 0 to 30489\n",
      "Columns: 1919 entries, id to d_1913\n",
      "dtypes: int64(1913), object(6)\n",
      "memory usage: 446.4+ MB\n"
     ]
    }
   ],
   "source": [
    "sales_train.info()"
   ]
  },
  {
   "cell_type": "code",
   "execution_count": 25,
   "id": "79f261b5",
   "metadata": {},
   "outputs": [
    {
     "data": {
      "text/html": [
       "<div>\n",
       "<style scoped>\n",
       "    .dataframe tbody tr th:only-of-type {\n",
       "        vertical-align: middle;\n",
       "    }\n",
       "\n",
       "    .dataframe tbody tr th {\n",
       "        vertical-align: top;\n",
       "    }\n",
       "\n",
       "    .dataframe thead th {\n",
       "        text-align: right;\n",
       "    }\n",
       "</style>\n",
       "<table border=\"1\" class=\"dataframe\">\n",
       "  <thead>\n",
       "    <tr style=\"text-align: right;\">\n",
       "      <th></th>\n",
       "      <th>id</th>\n",
       "      <th>item_id</th>\n",
       "      <th>dept_id</th>\n",
       "      <th>cat_id</th>\n",
       "      <th>store_id</th>\n",
       "      <th>state_id</th>\n",
       "      <th>d_1</th>\n",
       "      <th>d_2</th>\n",
       "      <th>d_3</th>\n",
       "      <th>d_4</th>\n",
       "      <th>...</th>\n",
       "      <th>d_1904</th>\n",
       "      <th>d_1905</th>\n",
       "      <th>d_1906</th>\n",
       "      <th>d_1907</th>\n",
       "      <th>d_1908</th>\n",
       "      <th>d_1909</th>\n",
       "      <th>d_1910</th>\n",
       "      <th>d_1911</th>\n",
       "      <th>d_1912</th>\n",
       "      <th>d_1913</th>\n",
       "    </tr>\n",
       "  </thead>\n",
       "  <tbody>\n",
       "    <tr>\n",
       "      <th>0</th>\n",
       "      <td>HOBBIES_1_001_CA_1_validation</td>\n",
       "      <td>HOBBIES_1_001</td>\n",
       "      <td>HOBBIES_1</td>\n",
       "      <td>HOBBIES</td>\n",
       "      <td>CA_1</td>\n",
       "      <td>CA</td>\n",
       "      <td>0</td>\n",
       "      <td>0</td>\n",
       "      <td>0</td>\n",
       "      <td>0</td>\n",
       "      <td>...</td>\n",
       "      <td>1</td>\n",
       "      <td>3</td>\n",
       "      <td>0</td>\n",
       "      <td>1</td>\n",
       "      <td>1</td>\n",
       "      <td>1</td>\n",
       "      <td>3</td>\n",
       "      <td>0</td>\n",
       "      <td>1</td>\n",
       "      <td>1</td>\n",
       "    </tr>\n",
       "    <tr>\n",
       "      <th>1</th>\n",
       "      <td>HOBBIES_1_002_CA_1_validation</td>\n",
       "      <td>HOBBIES_1_002</td>\n",
       "      <td>HOBBIES_1</td>\n",
       "      <td>HOBBIES</td>\n",
       "      <td>CA_1</td>\n",
       "      <td>CA</td>\n",
       "      <td>0</td>\n",
       "      <td>0</td>\n",
       "      <td>0</td>\n",
       "      <td>0</td>\n",
       "      <td>...</td>\n",
       "      <td>0</td>\n",
       "      <td>0</td>\n",
       "      <td>0</td>\n",
       "      <td>0</td>\n",
       "      <td>0</td>\n",
       "      <td>1</td>\n",
       "      <td>0</td>\n",
       "      <td>0</td>\n",
       "      <td>0</td>\n",
       "      <td>0</td>\n",
       "    </tr>\n",
       "    <tr>\n",
       "      <th>2</th>\n",
       "      <td>HOBBIES_1_003_CA_1_validation</td>\n",
       "      <td>HOBBIES_1_003</td>\n",
       "      <td>HOBBIES_1</td>\n",
       "      <td>HOBBIES</td>\n",
       "      <td>CA_1</td>\n",
       "      <td>CA</td>\n",
       "      <td>0</td>\n",
       "      <td>0</td>\n",
       "      <td>0</td>\n",
       "      <td>0</td>\n",
       "      <td>...</td>\n",
       "      <td>2</td>\n",
       "      <td>1</td>\n",
       "      <td>2</td>\n",
       "      <td>1</td>\n",
       "      <td>1</td>\n",
       "      <td>1</td>\n",
       "      <td>0</td>\n",
       "      <td>1</td>\n",
       "      <td>1</td>\n",
       "      <td>1</td>\n",
       "    </tr>\n",
       "  </tbody>\n",
       "</table>\n",
       "<p>3 rows × 1919 columns</p>\n",
       "</div>"
      ],
      "text/plain": [
       "                              id        item_id    dept_id   cat_id store_id  \\\n",
       "0  HOBBIES_1_001_CA_1_validation  HOBBIES_1_001  HOBBIES_1  HOBBIES     CA_1   \n",
       "1  HOBBIES_1_002_CA_1_validation  HOBBIES_1_002  HOBBIES_1  HOBBIES     CA_1   \n",
       "2  HOBBIES_1_003_CA_1_validation  HOBBIES_1_003  HOBBIES_1  HOBBIES     CA_1   \n",
       "\n",
       "  state_id  d_1  d_2  d_3  d_4  ...  d_1904  d_1905  d_1906  d_1907  d_1908  \\\n",
       "0       CA    0    0    0    0  ...       1       3       0       1       1   \n",
       "1       CA    0    0    0    0  ...       0       0       0       0       0   \n",
       "2       CA    0    0    0    0  ...       2       1       2       1       1   \n",
       "\n",
       "   d_1909  d_1910  d_1911  d_1912  d_1913  \n",
       "0       1       3       0       1       1  \n",
       "1       1       0       0       0       0  \n",
       "2       1       0       1       1       1  \n",
       "\n",
       "[3 rows x 1919 columns]"
      ]
     },
     "execution_count": 25,
     "metadata": {},
     "output_type": "execute_result"
    }
   ],
   "source": [
    "sales_train.head(3)"
   ]
  },
  {
   "cell_type": "code",
   "execution_count": 26,
   "id": "fbccb9e3",
   "metadata": {},
   "outputs": [
    {
     "data": {
      "text/plain": [
       "array(['HOBBIES_1', 'HOBBIES_2', 'HOUSEHOLD_1', 'HOUSEHOLD_2', 'FOODS_1',\n",
       "       'FOODS_2', 'FOODS_3'], dtype=object)"
      ]
     },
     "execution_count": 26,
     "metadata": {},
     "output_type": "execute_result"
    }
   ],
   "source": [
    "department = sales_train.dept_id.unique()\n",
    "department"
   ]
  },
  {
   "cell_type": "markdown",
   "id": "56cde344",
   "metadata": {},
   "source": [
    "There are 3 item categories, and 7 departments. With 2 hobbies department, 2 household departments, and 3 foods departments.\n",
    "The dataset also records item daily sales from day1 to day 1913."
   ]
  },
  {
   "cell_type": "markdown",
   "id": "ade9fe58",
   "metadata": {},
   "source": [
    "## IIII.  Data Engineering <a name=\"prep\"></a>"
   ]
  },
  {
   "cell_type": "markdown",
   "id": "e79e7869",
   "metadata": {},
   "source": [
    "### 3a. Data Cleaning <a name=\"clean\"></a>"
   ]
  },
  {
   "cell_type": "code",
   "execution_count": 27,
   "id": "03894ff0",
   "metadata": {},
   "outputs": [],
   "source": [
    "# Update date column datatype \n",
    "calendar[\"date\"] = pd.to_datetime(calendar[\"date\"])\n",
    "\n",
    "# Fill NaN for event columns:\n",
    "for col in calendar.iloc[:, 7:11]:\n",
    "    calendar[col] = calendar[col].fillna(0)\n"
   ]
  },
  {
   "cell_type": "code",
   "execution_count": 28,
   "id": "00821936",
   "metadata": {},
   "outputs": [
    {
     "name": "stdout",
     "output_type": "stream",
     "text": [
      "0 0 0\n",
      "0 0 0\n"
     ]
    }
   ],
   "source": [
    "# check missing values and duplicates\n",
    "\n",
    "print(len(calendar)-len(calendar.dropna()), \n",
    "      len(price)-len(price.dropna()), \n",
    "      len(sales_train)-len(sales_train.dropna()))\n",
    "\n",
    "print(len(calendar)-len(calendar.drop_duplicates()), \n",
    "      len(price)-len(price.drop_duplicates()),\n",
    "      len(sales_train)-len(sales_train.drop_duplicates()))"
   ]
  },
  {
   "cell_type": "markdown",
   "id": "76abf581",
   "metadata": {},
   "source": [
    "There are no missing values and duplicates."
   ]
  },
  {
   "cell_type": "markdown",
   "id": "c70eba99",
   "metadata": {},
   "source": [
    "### 3b. Data Preparation <a name=\"dprep\"></a>"
   ]
  },
  {
   "cell_type": "markdown",
   "id": "bf2c6107",
   "metadata": {},
   "source": [
    "**1. Sales Train data**\n",
    "\n",
    "Since the goal is to predict every day’s unit sales of each item, we first reshaped the data into daily levels, in which each row represented a sales record of a specific date. After resharing the data, we also created our label column ‘demand’ which is the sales quantity value."
   ]
  },
  {
   "cell_type": "code",
   "execution_count": 29,
   "id": "cd6664bf",
   "metadata": {},
   "outputs": [],
   "source": [
    "# reshape the training dataset\n",
    "df=pd.melt(x,id_vars=['id','item_id','dept_id','cat_id','store_id','state_id'],var_name='d',value_name='demand')"
   ]
  },
  {
   "cell_type": "markdown",
   "id": "7ce0b129",
   "metadata": {},
   "source": [
    "**2.\tCalendar Info**\n",
    "\n",
    "This dataset allows us to identify whether a specific date is a weekday or weekend and if it is having special events or holidays or running the Supplemental Nutrition Assistance Program. Even though the event columns show a lot of missing values, these missing values actually indicates that there is no event on that day, thus we replaced them with “No event”.\n"
   ]
  },
  {
   "cell_type": "code",
   "execution_count": 32,
   "id": "bb337046",
   "metadata": {},
   "outputs": [],
   "source": [
    "cat=['event_name_1','event_type_1','event_name_2','event_type_2']\n",
    "for i in cat:\n",
    "df[i].fillna('no_event',inplace=True)"
   ]
  },
  {
   "cell_type": "markdown",
   "id": "976c2346",
   "metadata": {},
   "source": [
    "**3.\tPrice**\n",
    "\n",
    "This dataset provides useful price information for each item at different store locations at different points of time, and the price is updated weekly. However, we noticed that an item has no sales record in a particular week, the price of that product would not be updated, and thus the price info of that week would be missing. We handled these missing price values by imputing the average price of that item after integration.\n",
    "\n",
    "We merged the sales train data with the Calendar and Price data frame to get our final data frame, so each daily sales record also contains its calendar and price information.\n"
   ]
  },
  {
   "cell_type": "code",
   "execution_count": 33,
   "id": "4a688e2b",
   "metadata": {},
   "outputs": [],
   "source": [
    "# merge price and calendar dataset\n",
    "df=pd.merge(df,calendar_,on='d',how='left')\n",
    "df=pd.merge(df,sell_prices_,on=['item_id','store_id','wm_yr_wk'],how='left')\n",
    "df['sell_price']=df.groupby(['id'])['sell_price'].apply(lambda x: x.fillna(x.mean()))"
   ]
  },
  {
   "cell_type": "markdown",
   "id": "e6c7ea33",
   "metadata": {},
   "source": [
    "### 3c. Feature Engineering <a name=\"feature\"></a>"
   ]
  },
  {
   "cell_type": "markdown",
   "id": "ef981286",
   "metadata": {},
   "source": [
    "**1.\tCategorical Features**\n",
    "\n",
    " > The innate feature that impact sales item over time and they are static\n",
    "\n",
    "We used label encoder to transform all the categorical features.\n"
   ]
  },
  {
   "cell_type": "code",
   "execution_count": null,
   "id": "c39847e6",
   "metadata": {},
   "outputs": [],
   "source": [
    "labelencoder=LabelEncoder() \n",
    "\n",
    "category=['event_name_1','event_type_1','event_name_2','event_type_2','id','item_id','dept_id','cat_id','store_id','state_id']\n",
    "  for i in category:\n",
    "      df[i+'_']=labelencoder.fit_transform(df[i])\n",
    "\n",
    "df=df.drop(['event_name_1','event_type_1','event_name_2','event_type_2','id','item_id','dept_id','cat_id','store_id','state_id'],axis=1)"
   ]
  },
  {
   "cell_type": "markdown",
   "id": "40b183d8",
   "metadata": {},
   "source": [
    "**2. Lag Features**\n",
    "\n",
    ">\tIntuition is to use item past sales or pattern to predict their future performance (past item sales, past sell price – 4wks, 5wks, 6wks)\n",
    "\n",
    "In order to use past records as reference for future prediction, weekly lags features are created on item sale, sell price, store level average sale and store+department level average. 28, 35 and 42 are used as the lag basis. The rolling mean of lag features are also included\n"
   ]
  },
  {
   "cell_type": "code",
   "execution_count": null,
   "id": "71c24bc9",
   "metadata": {},
   "outputs": [],
   "source": [
    "store_demand = df.groupby(['store_id','d'])['demand'].sum().reset_index().rename(columns={'demand':'store_demand'})\n",
    "df = pd.merge(df, store_demand, on=['store_id','d'],how='left')\n",
    "del store_demand\n",
    "\n",
    "item_demand = df.groupby(['item_id','d'])['demand'].sum().reset_index().rename(columns={'demand':'item_demand'})\n",
    "df = pd.merge(df, item_demand, on=['item_id','d'],how='left')\n",
    "del item_demand\n",
    "\n",
    "store_dept_demand = df.groupby(['store_id','dept_id','d'])['demand'].sum().reset_index().rename(columns={'demand':'store_dept_demand'})\n",
    "df = pd.merge(df, store_dept_demand, on=['store_id','dept_id','d'],how='left')\n",
    "del store_dept_demand\n",
    "\n",
    "# Create lag variables\n",
    "lag_col_prefixs = ['lag_','lag_price_','lag_store_demand_','lag_item_demand_','lag_store_dept_demand_']\n",
    "\n",
    "lag_col_names = ['demand','sell_price','store_demand','item_demand','store_dept_demand']\n",
    "for col_prefix, col_name in zip(lag_col_prefixs, lag_col_names):\n",
    "lags=[28,35,42]\n",
    "lag_cols=[]\n",
    "for i in lags:\n",
    "   df[col_prefix+str(i)]=df.groupby(['id'])[col_name].shift(i)\n",
    "   lag_cols.append(col_prefix+str(i))\n",
    "# lag_cols=['lag_28','lag_35','lag_42']\n",
    "for i in lag_cols:\n",
    "   df[i].fillna(0,inplace=True)\n",
    "\n",
    "for val in [7, 30, 60, 90, 180]:\n",
    "     df[f\"rolling_std_t{val}\"] = df.groupby([\"id\"])[\"demand\"].transform(lambda x: x.shift(28).rolling(val).std())\n",
    "for val in [7, 30, 60, 90, 180]:\n",
    "   df[f\"rolling_mean_t{val}\"] = df.groupby([\"id\"])[\"demand\"].transform(lambda x: x.shift(28).rolling(val).mean())\n",
    "\n",
    "df[\"rolling_skew_t30\"] = df.groupby([\"id\"])[\"demand\"].transform( lambda x: x.shift(28).rolling(30).skew())\n",
    "df[\"rolling_kurt_t30\"] = df.groupby([\"id\"])[\"demand\"].transform(lambda x: x.shift(28).rolling(30).kurt())\n"
   ]
  },
  {
   "cell_type": "markdown",
   "id": "b248e964",
   "metadata": {},
   "source": [
    "**3. Temporal Features**\n",
    "\n",
    ">\tNatural time variant features that would have impact on daily sales\n",
    "\n",
    "Since this is a time series forecasting problem, we are interested in different time features. We believe knowing whether a day is a holiday or is having a special event would be helpful, as consumer’s shopping patterns tend to change around these specific days. From the data, we learned that there are four different event types, which are sporting, cultural, national, religious. We also created a feature to indicate whether a day is a holiday. Thus, we created events time features as below:\n"
   ]
  },
  {
   "cell_type": "code",
   "execution_count": null,
   "id": "32cf177e",
   "metadata": {},
   "outputs": [],
   "source": [
    "# IsSporting, IsCulture, IsNational, IsReligious, and IsHoliday\n",
    "df[\"IsSporting\"] = np.where((df[\"event_type_1\"] == \"Sporting\") | (df[\"event_type_2\"] == \"Sporting\"), 1, 0)\n",
    "df[\"IsCultural\"] = np.where((df[\"event_type_1\"] == \"Cultural\") | (df[\"event_type_2\"] == \"Cultural\"), 1, 0)\n",
    "df[\"IsNational\"] = np.where((df[\"event_type_1\"] == \"National\") | (df[\"event_type_2\"] == \"National\"), 1, 0)\n",
    "df[\"IsReligious\"] = np.where((df[\"event_type_1\"] == \"Religious\") | (df[\"event_type_2\"] == \"Religious\"), 1, 0)\n",
    "df[\"IsHoliday\"] = np.where((df[\"IsSporting\"] == 1) | (df[\"IsCultural\"] == 1) | (df[\"IsNational\"] == 1) | (df[\"IsReligious\"] == 1) , 1, 0)\n"
   ]
  },
  {
   "cell_type": "markdown",
   "id": "a920eaf2",
   "metadata": {},
   "source": [
    "Besides using the time column in the original dataset, we also think knowing whether a day is a weekend,   the day of the month, and the week of the month would be helpful and interesting because during these special circumstances, consumers' shopping behaviors may change. For instance, people may be more likely to shop during weekends as they have more time or need to get groceries for the upcoming week, thus time features below have been created.\n",
    "\n",
    "* is_weekend, month_day, month_week"
   ]
  },
  {
   "cell_type": "code",
   "execution_count": null,
   "id": "9106b873",
   "metadata": {},
   "outputs": [],
   "source": [
    "# Create is_weekend feature\n",
    "f=lambda x: 1 if x<=2 else 0\n",
    "df['is_weekend']=df['wday'].map(f)\n",
    "df['is_weekend']=df['is_weekend'].astype(np.int8)\n",
    "\n",
    "# Create month_day feature\n",
    "f=lambda x: x.split(\"-\")[2]\n",
    "df['month_day']=df['date'].map(f)\n",
    "df['month_day']=df['month_day'].astype(np.int8)\n",
    "\n",
    "# Create month_week_number feature\n",
    "df['month_week_number']=(df['month_day']-1) // 7 + 1 \n",
    "df['month_week_number']=df['month_week_number'].astype(np.int8)"
   ]
  },
  {
   "cell_type": "markdown",
   "id": "18f6e651",
   "metadata": {},
   "source": [
    "**4.\tPrice features**\n",
    "\n",
    "Price is the most important factor for customer demands, hence we did major feature engineering based on price features, including:\n",
    "\n",
    "> ●\tlag 1 day price and recent price change\n",
    "\n",
    "> ●\tprice changes in the past 1 year to measure an item’s price variance\n"
   ]
  },
  {
   "cell_type": "code",
   "execution_count": null,
   "id": "dcb4f9d5",
   "metadata": {},
   "outputs": [],
   "source": [
    "# price features\n",
    "df['lag_price_t1'] = df.groupby(['id'])['sell_price'].transform(lambda x: x.shift(1))\n",
    "df['price_change_t1'] = (df['lag_price_t1'] - df['sell_price']) / (df['lag_price_t1'])\n",
    "df['rolling_price_max_t365'] = df.groupby(['id'])['sell_price'].transform(lambda x: x.shift(1).rolling(365).max())\n",
    "df['price_change_t365'] = (df['rolling_price_max_t365'] - df['sell_price']) / (df['rolling_price_max_t365'])\n",
    "df['rolling_price_std_t7'] = df.groupby(['id'])['sell_price'].transform(lambda x: x.rolling(7).std())\n",
    "df['rolling_price_std_t30'] = df.groupby(['id'])['sell_price'].transform(lambda x: x.rolling(30).std())\n",
    "df.drop(['rolling_price_max_t365', 'lag_price_t1'], inplace = True, axis = 1)"
   ]
  },
  {
   "cell_type": "markdown",
   "id": "2d997b68",
   "metadata": {},
   "source": [
    "### V. Predictive Model  <a name=\"model\"></a>\n",
    "\n",
    "Given the scale of the input dataset, it takes hours to train and tune one model, in the interest of time we chose LightGBM over XGBoost as the single boosting method."
   ]
  },
  {
   "cell_type": "markdown",
   "id": "83b8151e",
   "metadata": {},
   "source": [
    "#### 5a. Parameter Tuning  <a name=\"param\"></a>\n",
    "\n",
    "When choosing the training objective, we used [“tweedie”](https://medium.com/@royravid/have-you-heard-about-tweedie-loss-bb94551dd82f) instead of the default “regression”. The distribution of our target variable “sales” is highly skewed towards zero, rather than conforming well to the normal distribution, therefore “tweedie” works better . "
   ]
  },
  {
   "cell_type": "markdown",
   "id": "23585ee8",
   "metadata": {},
   "source": [
    "For the rest of hyperparameter tuning, we used a 5-fold Cross-Validation splits to compare the performance (as mean squared error). To avoid data leakage, we used a custom split function to manually pull out the last 5 28-day data as validation set and all the other data ahead each split as training set respectively."
   ]
  },
  {
   "cell_type": "code",
   "execution_count": null,
   "id": "7129b916",
   "metadata": {},
   "outputs": [],
   "source": [
    "def custom_split(X, y, groups):\n",
    "    for train_index, test_index in groups:\n",
    "        original_train_index = np.array(X[X['day'].isin(train_index+1)].index)\n",
    "        original_test_index = np.array(X[X['day'].isin(test_index+1)].index)\n",
    "        yield original_train_index, original_test_index\n",
    "\n",
    "tscv = TimeSeriesSplit(n_splits=5, test_size=28)\n",
    "groups = tscv.split(df1['day'].unique())"
   ]
  },
  {
   "cell_type": "markdown",
   "id": "3993ceb7",
   "metadata": {},
   "source": [
    "Due to the large volume of data and the number of models we need to train, it is very time-consuming to use GridSearch for hyperparameters tuning, instead we used RandomizedSearch and with a limited search space consisted of key hyperparameters."
   ]
  },
  {
   "cell_type": "code",
   "execution_count": null,
   "id": "62bdec55",
   "metadata": {},
   "outputs": [],
   "source": [
    "lgb_grid = {'learning_rate': reciprocal(1e-3, 3e-1),\n",
    "            'max_depth': list(range(3, 12)) ,\n",
    "            'num_leaves': list(range(20, 3000, 20)) ,\n",
    "            'n_estimators': sp.stats.randint(low=400, high=1500),\n",
    "            \"min_gain_to_split\": list(range(0, 15)),\n",
    "            'max_bin': sp.stats.randint(low=200, high=300),\n",
    "            \"min_data_in_leaf\": list(range(200, 3000, 100)),\n",
    "            \"lambda_l1\": list(range(0, 100, 5)),\n",
    "            \"lambda_l1\": list(range(0, 100, 5)),\n",
    "            \"min_gain_to_split\": list(range(0, 15)),\n",
    "            \"feature_fraction\": sp.stats.uniform(loc=0.2, scale=0.7)\n",
    "            }\n",
    "lgb_reg = RandomizedSearchCV(lgb, param_distributions=lgb_grid,n_jobs=-1, \n",
    "                             scoring = 'neg_mean_squared_error',    \n",
    "                             cv=custom_split(X, y, groups))"
   ]
  },
  {
   "cell_type": "markdown",
   "id": "f308f96b",
   "metadata": {},
   "source": [
    "The best parameters vary between different models, see appendix for details."
   ]
  },
  {
   "cell_type": "markdown",
   "id": "38d88a6e",
   "metadata": {},
   "source": [
    "#### 5b. Training Strategy  <a name=\"strategy\"></a>\n",
    "\n",
    "Based on this data we will predict sales of 3049 items for 10 stores from CA, TX and WI. These items are from 7 departments that belong to Hobbies, Household and Foods. Under this hierarchical structure, it is natural for us to train and predict at different levels. \n",
    "\n",
    "We tried a training model by store and by store - department to get 2 sets of predictions, and also combined the 2 predictions with a simple average to produce a 3rd one. \n",
    "\n",
    "Meanwhile since our prediction period is 4-week, we also tried to split the dataset into 4 splits based on the week number within each 4-week period, so for each week prediction we used ¼ of the training data. However it did not see a performance improvement. \n",
    "\n",
    "Finally, considering different models may capture a certain part of the pattern, we tried to combine the predictions from models, specifically from the store and store-department level predictions, and the combined outcome produced the least error.\n",
    "\n",
    "Find the model performance summary in below chart:\n",
    "\n",
    "\n",
    "\n",
    "\n",
    "| **LGBM Model Approaches we tried** | **Kaggle Private Score** |\n",
    "| :-  | :-  |\n",
    "|LGBM by Store|0.56183|\n",
    "|LGBM by Store and by Department|0.575|\n",
    "|LGBM by week|0.66|\n",
    "|Combination of Approaches|0.5454|\n"
   ]
  },
  {
   "cell_type": "markdown",
   "id": "be9648fa",
   "metadata": {},
   "source": [
    "### VI. Appendix <a name=\"summary\"></a>\n",
    "\n",
    "\n",
    "This project was originally developed and executed on Google Colab due to data size limitations and the convenience of a cloud-based runtime environment. The output was exported to a CSV file for submission.\n",
    "\n",
    "\n",
    "Below is the complete code used in the original Google Colab notebook:"
   ]
  },
  {
   "cell_type": "code",
   "execution_count": null,
   "id": "cdf4fa3c",
   "metadata": {},
   "outputs": [],
   "source": [
    "%matplotlib inline\n",
    "import warnings\n",
    "warnings.filterwarnings('ignore')\n",
    "import pandas as pd\n",
    "import numpy as np\n",
    "from IPython.core.interactiveshell import InteractiveShell\n",
    "InteractiveShell.ast_node_interactivity = \"all\"\n",
    "from sklearn.preprocessing import LabelEncoder\n",
    "from sklearn.metrics import mean_squared_error as rmse\n",
    "from lightgbm import LGBMRegressor\n",
    "import pickle\n",
    "from sklearn.metrics import make_scorer\n",
    "from sklearn.model_selection import TimeSeriesSplit\n",
    "from sklearn.model_selection import RandomizedSearchCV\n",
    "from scipy.stats import reciprocal"
   ]
  },
  {
   "cell_type": "code",
   "execution_count": null,
   "id": "eeee6c4e",
   "metadata": {},
   "outputs": [],
   "source": [
    "from google.colab import drive\n",
    "\n",
    "drive.mount('/content/drive')\n",
    "%cd '/content/drive/Shared drives/Predictive Analysis- Walmart'"
   ]
  },
  {
   "cell_type": "code",
   "execution_count": null,
   "id": "c1022ed9",
   "metadata": {},
   "outputs": [],
   "source": [
    "data = pd.read_csv('./processed_data_by_store/CA_1.csv')\n",
    "# data[data[\"id_\"]==2778].to_csv(\"walmart_sample2778.csv\",index=False)\n",
    "# data[data[\"id_\"]==2778].columns"
   ]
  },
  {
   "cell_type": "code",
   "execution_count": null,
   "id": "b70826e9",
   "metadata": {},
   "outputs": [],
   "source": [
    "sales_train_evaluation_ = pd.read_csv('/content/sales_train_evaluation.csv')\n",
    "calendar_ = pd.read_csv('/content/calendar.csv')\n",
    "sell_prices_ = pd.read_csv('/content/sell_prices.csv')\n",
    "STORES_IDS = list(sales_train_evaluation_['store_id'].unique())"
   ]
  },
  {
   "cell_type": "code",
   "execution_count": null,
   "id": "f3ff9c76",
   "metadata": {},
   "outputs": [],
   "source": [
    "def reduce_mem_usage(df, verbose=True):\n",
    "    numerics = ['int16', 'int32', 'int64', 'float16', 'float32', 'float64']\n",
    "    start_mem = df.memory_usage().sum() / 1024**2    \n",
    "    for col in df.columns:\n",
    "        col_type = df[col].dtypes\n",
    "        if col_type in numerics:\n",
    "            c_min = df[col].min()\n",
    "            c_max = df[col].max()\n",
    "            if str(col_type)[:3] == 'int':\n",
    "                if c_min > np.iinfo(np.int8).min and c_max < np.iinfo(np.int8).max:\n",
    "                    df[col] = df[col].astype(np.int8)\n",
    "                elif c_min > np.iinfo(np.int16).min and c_max < np.iinfo(np.int16).max:\n",
    "                    df[col] = df[col].astype(np.int16)\n",
    "                elif c_min > np.iinfo(np.int32).min and c_max < np.iinfo(np.int32).max:\n",
    "                    df[col] = df[col].astype(np.int32)\n",
    "                elif c_min > np.iinfo(np.int64).min and c_max < np.iinfo(np.int64).max:\n",
    "                    df[col] = df[col].astype(np.int64)  \n",
    "            else:\n",
    "                if c_min > np.finfo(np.float16).min and c_max < np.finfo(np.float16).max:\n",
    "                    df[col] = df[col].astype(np.float16)\n",
    "                elif c_min > np.finfo(np.float32).min and c_max < np.finfo(np.float32).max:\n",
    "                    df[col] = df[col].astype(np.float32)\n",
    "                else:\n",
    "                    df[col] = df[col].astype(np.float64)    \n",
    "    end_mem = df.memory_usage().sum() / 1024**2\n",
    "    if verbose: print('Mem. usage decreased to {:5.2f} Mb ({:.1f}% reduction)'.format(end_mem, 100 * (start_mem - end_mem) / start_mem))\n",
    "    return df"
   ]
  },
  {
   "cell_type": "code",
   "execution_count": null,
   "id": "f3fc3b5b",
   "metadata": {},
   "outputs": [],
   "source": [
    "def data_processing(x):\n",
    "    # Adding columns for the days d_1942 to d_1969 as nan for which we need to forecast sales\n",
    "    for i in range(1942,1970):\n",
    "        x['d_'+str(i)]=np.nan\n",
    "        x['d_'+str(i)]=x['d_'+str(i)].astype(np.float16)\n",
    "\n",
    "    # Melting to convert one date to one observation\n",
    "    df=pd.melt(x,id_vars=['id','item_id','dept_id','cat_id','store_id','state_id'],var_name='d',value_name='demand')\n",
    "    # Merge calendar and sell_prices data\n",
    "    df=pd.merge(df,calendar_,on='d',how='left')\n",
    "    df=pd.merge(df,sell_prices_,on=['item_id','store_id','wm_yr_wk'],how='left')\n",
    "    df['sell_price']=df.groupby(['id'])['sell_price'].apply(lambda x: x.fillna(x.mean()))\n",
    "\n",
    "    # Fill events N/A\n",
    "    cat=['event_name_1','event_type_1','event_name_2','event_type_2']\n",
    "    for i in cat:\n",
    "        df[i].fillna('no_event',inplace=True)\n",
    "\n",
    "    # Create is_weekend feature\n",
    "    f=lambda x: 1 if x<=2 else 0\n",
    "    df['is_weekend']=df['wday'].map(f)\n",
    "    df['is_weekend']=df['is_weekend'].astype(np.int8)\n",
    "\n",
    "    # Create month_day feature\n",
    "    f=lambda x: x.split(\"-\")[2]\n",
    "    df['month_day']=df['date'].map(f)\n",
    "    df['month_day']=df['month_day'].astype(np.int8)\n",
    "\n",
    "    # Create month_week_number feature\n",
    "    df['month_week_number']=(df['month_day']-1) // 7 + 1  \n",
    "    df['month_week_number']=df['month_week_number'].astype(np.int8)\n",
    "\n",
    "    # Get sales by 3 aggregation level: store_id, item_id, store_id+dept_id\n",
    "    store_demand = df.groupby(['store_id','d'])['demand'].sum().reset_index().rename(columns={'demand':'store_demand'})\n",
    "    df = pd.merge(df, store_demand, on=['store_id','d'],how='left')\n",
    "    del store_demand\n",
    "\n",
    "    item_demand = df.groupby(['item_id','d'])['demand'].sum().reset_index().rename(columns={'demand':'item_demand'})\n",
    "    df = pd.merge(df, item_demand, on=['item_id','d'],how='left')\n",
    "    del item_demand\n",
    "\n",
    "    store_dept_demand = df.groupby(['store_id','dept_id','d'])['demand'].sum().reset_index().rename(columns={'demand':'store_dept_demand'})\n",
    "    df = pd.merge(df, store_dept_demand, on=['store_id','dept_id','d'],how='left')\n",
    "    del store_dept_demand\n",
    "\n",
    "    # Create lag variables\n",
    "    lag_col_prefixs = ['lag_','lag_price_','lag_store_demand_','lag_item_demand_','lag_store_dept_demand_']\n",
    "    lag_col_names = ['demand','sell_price','store_demand','item_demand','store_dept_demand']\n",
    "    for col_prefix, col_name in zip(lag_col_prefixs, lag_col_names):\n",
    "    lags=[28,35,42]\n",
    "    lag_cols=[]\n",
    "    for i in lags:\n",
    "        df[col_prefix+str(i)]=df.groupby(['id'])[col_name].shift(i)\n",
    "        lag_cols.append(col_prefix+str(i))\n",
    "    # lag_cols=['lag_28','lag_35','lag_42']\n",
    "    for i in lag_cols:\n",
    "        df[i].fillna(0,inplace=True)\n",
    "\n",
    "    # Encoding\n",
    "    labelencoder=LabelEncoder() \n",
    "    category=['event_name_1','event_type_1','event_name_2','event_type_2','id','item_id','dept_id','cat_id','store_id','state_id']\n",
    "    for i in category:\n",
    "        df[i+'_']=labelencoder.fit_transform(df[i])\n",
    "    df=df.drop(['event_name_1','event_type_1','event_name_2','event_type_2','id','item_id','dept_id','cat_id','store_id','state_id'],axis=1)\n",
    "\n",
    "    # Convert string date to int date\n",
    "    f=lambda x: x.split('_')[1]\n",
    "    df['day']=df['d'].map(f)\n",
    "    df['day']=df['day'].astype(np.int16) \n",
    "\n",
    "    # Cleanup - drop redundant columns\n",
    "    df=df.drop(['d','date','weekday','store_demand','item_demand','store_dept_demand'],axis=1)\n",
    "\n",
    "return df"
   ]
  },
  {
   "cell_type": "code",
   "execution_count": null,
   "id": "42f55380",
   "metadata": {},
   "outputs": [],
   "source": [
    "############ Data Processing ############\n",
    "# Calculate event count each day\n",
    "calendar_['event_count'] = calendar_[['event_name_1','event_name_2']].apply(lambda x: 2-x.isna().sum(), axis=1)\n",
    "# Apply data_processing function\n",
    "sales_train_evaluation_ = reduce_mem_usage(sales_train_evaluation_)\n",
    "processed_df = data_processing(sales_train_evaluation_)"
   ]
  },
  {
   "cell_type": "code",
   "execution_count": null,
   "id": "085c374c",
   "metadata": {},
   "outputs": [],
   "source": [
    "############ Hyperparameter tuning with RandomizedSearchCV ############\n",
    "def custom_split(X, y, groups):\n",
    "    for train_index, test_index in groups:\n",
    "        original_train_index = np.array(X[X['day'].isin(train_index+1)].index)\n",
    "        original_test_index = np.array(X[X['day'].isin(test_index+1)].index)\n",
    "        yield original_train_index, original_test_index\n",
    "\n",
    "# Train by store\n",
    "STORES_IDS = list(processed_df['store_id_'].unique())\n",
    "for store_id in STORES_IDS:\n",
    "    df1 = processed_df[processed_df.store_id_ == store_id]\n",
    "    # file_path = 'processed_data_by_store/'+store_id+'.csv'\n",
    "    # df1 = pd.read_csv(file_path)\n",
    "    df1 = reduce_mem_usage(df1)\n",
    "    # remove testing data\n",
    "    df1 = df1[df1['day']<1942]\n",
    "\n",
    "    df1 = df1.reset_index().drop(\"index\",axis=1)\n",
    "    X = df1.iloc[:, 1:]\n",
    "    y = df1['demand']\n",
    "\n",
    "    tscv = TimeSeriesSplit(n_splits=5, test_size=28)\n",
    "    groups = tscv.split(df1['day'].unique())\n",
    "\n",
    "    lgb = LGBMRegressor(objective=\"tweedie\")\n",
    "\n",
    "    lgb_grid = {'learning_rate': reciprocal(3e-3, 3e-1),\n",
    "            'max_depth': list(range(50,70)) ,\n",
    "            'num_leaves': list(range(150,300)) ,\n",
    "            'n_estimators': list(range(100,200))}\n",
    "\n",
    "    lgb_reg = RandomizedSearchCV(lgb, param_distributions=lgb_grid,\n",
    "                            n_jobs=-1, scoring = 'neg_mean_squared_error', cv=custom_split(X, y, groups))\n",
    "    lgb_reg.fit(X, y)\n",
    "    print(store_id, '\\t', lgb_reg.best_params_)\n",
    "    print(store_id, '\\t', lgb_reg.best_score_)\n",
    "    model_path = 'lgb_model_dump/lgb_model_store_'+str(store_id)+'.bin'\n",
    "    pickle.dump(lgb_reg.best_estimator_, open(model_path, 'wb'))\n"
   ]
  },
  {
   "cell_type": "code",
   "execution_count": null,
   "id": "16906a46",
   "metadata": {},
   "outputs": [],
   "source": [
    "# Initialize submission dataframe\n",
    "pred_test=pd.DataFrame()\n",
    "pred_test['id']=sales_train_evaluation_['id']\n",
    "pred_test['store_id']=sales_train_evaluation_['store_id'] \n",
    "for i in range(1,29):\n",
    "    pred_test['F'+str(i)]=np.nan\n",
    "    pred_test['F'+str(i)]=pred_test['F'+str(i)].astype(np.float16)\n",
    "    \n",
    "labelencoder=LabelEncoder() \n",
    "pred_test['store_id_']=labelencoder.fit_transform(pred_test['store_id'])"
   ]
  },
  {
   "cell_type": "code",
   "execution_count": null,
   "id": "e33d38fb",
   "metadata": {},
   "outputs": [],
   "source": [
    "# Make test predictions by store\n",
    "for store_id in STORES_IDS:\n",
    "  df = processed_df[processed_df.store_id_ == store_id]\n",
    "  # file_path = 'processed_data_by_store/'+store_id+'.csv'\n",
    "  # df = pd.read_csv(file_path)\n",
    "  x_test=df.loc[df['day']>=1942]\n",
    "  x_test = x_test.drop(['demand'],axis=1)\n",
    "  model_path = 'lgb_model_dump/lgb_model_store_'+str(store_id)+'.bin'\n",
    "  lgb = pickle.load(open(model_path, 'rb'))\n",
    "  k=1\n",
    "  for i in range(1942,1970):\n",
    "    # Read all our models and make predictions for each day/store pairs\n",
    "    pred_test['F'+str(k)][pred_test['store_id_']==store_id]=lgb.predict(x_test[x_test['day']==(i)]) \n",
    "    k+=1\n",
    "    \n",
    "prediction_test = np.round(pred_test,2) "
   ]
  },
  {
   "cell_type": "code",
   "execution_count": null,
   "id": "e819c677",
   "metadata": {},
   "outputs": [],
   "source": [
    "# Output the final submission file\n",
    "import time \n",
    "current_timestamp = int(time.time())\n",
    "prediction_test = prediction_test.drop(['store_id','store_id_'],axis=1)\n",
    "sample_submission = pd.read_csv('input/sample_submission.csv')\n",
    "sample_validation = sample_submission.iloc[:30490,:]\n",
    "final = pd.concat([sample_validation, prediction_test])\n",
    "file_path = 'lgb_submission/prediction_result' + str(current_timestamp) + '.csv'\n",
    "final.to_csv(file_path,index=False)"
   ]
  },
  {
   "cell_type": "markdown",
   "id": "69619101",
   "metadata": {},
   "source": [
    "#### Conclusion\n",
    "The above code snippet provides an overview of the code used in the original Google Colab notebook. It showcases the various steps involved in the project, such as data loading, preprocessing, model training, and result exportation."
   ]
  }
 ],
 "metadata": {
  "kernelspec": {
   "display_name": "Python 3 (ipykernel)",
   "language": "python",
   "name": "python3"
  },
  "language_info": {
   "codemirror_mode": {
    "name": "ipython",
    "version": 3
   },
   "file_extension": ".py",
   "mimetype": "text/x-python",
   "name": "python",
   "nbconvert_exporter": "python",
   "pygments_lexer": "ipython3",
   "version": "3.9.7"
  }
 },
 "nbformat": 4,
 "nbformat_minor": 5
}
